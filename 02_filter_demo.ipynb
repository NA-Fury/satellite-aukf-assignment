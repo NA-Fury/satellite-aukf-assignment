{
 "cells": [
  {
   "cell_type": "code",
   "execution_count": null,
   "id": "1f48eb8c-0613-462d-b19f-c2777a5e6b56",
   "metadata": {},
   "outputs": [
    {
     "name": "stdout",
     "output_type": "stream",
     "text": [
      "File or folder: C:\\Users\\nazih\\satellite-aukf-assignment\\orekit-data.zip  not found\n",
      "\n",
      "\n",
      "            The Orekit library relies on some external data for physical models.\n",
      "            Typical data are the Earth Orientation Parameters and the leap seconds history,\n",
      "            both being provided by the IERS or the planetary ephemerides provided by JPL.\n",
      "            Such data is stored in text or binary files with specific formats that Orekit knows\n",
      "            how to read, and needs to be provided for the library to work.\n",
      "\n",
      "            You can download a starting file with this data from the orekit gitlab at:\n",
      "            https://gitlab.orekit.org/orekit/orekit-data\n",
      "\n",
      "            or by the function:\n",
      "            orekit.pyhelpers.download_orekit_data_curdir()\n",
      "\n",
      "            \n",
      "✔️  Orekit data registered: C:\\Users\\nazih\\satellite-aukf-assignment\\orekit-data\n"
     ]
    }
   ],
   "source": [
    "# 02_filter_demo.ipynb\n",
    "\n",
    "import json, matplotlib.pyplot as plt\n",
    "import numpy as np, pandas as pd\n",
    "from scipy.stats import chi2\n",
    "\n",
    "from utils  import OrbitPropagator    # auto‐registers data\n",
    "from aukf   import UnscentedKalman\n",
    "\n",
    "# ---- data -------------------------------------------------------\n",
    "df  = pd.read_parquet(\"GPS_clean.parquet\")\n",
    "cols = json.load(open(\"meas_cols.json\"))\n",
    "grouped = df.groupby(\"time\", sort=True)\n",
    "\n",
    "# ---- propagator -------------------------------------------------\n",
    "prop = OrbitPropagator()\n",
    "\n",
    "# ---- UKF + innovation log ---------------------------------------\n",
    "ukf = UnscentedKalman(prop, cols,\n",
    "                      q0=1e-2, r0=25.0, adaptive=\"sage-husa\")\n",
    "ukf.innov = []  # initialise residual list\n",
    "\n",
    "# ---- init -------------------------------------------------------\n",
    "t0 = next(iter(grouped.groups))\n",
    "Z0 = grouped.get_group(t0)[cols].mean().values\n",
    "ukf.init_from_measurement(0.0, Z0)\n",
    "\n",
    "# ---- run --------------------------------------------------------\n",
    "prev_t = t0\n",
    "for t, g in grouped:\n",
    "    if t == t0: continue\n",
    "    dt = (t - prev_t).total_seconds()\n",
    "    Z  = g[cols].mean().values\n",
    "    ukf.step(dt, Z)\n",
    "    ukf.innov.append( (Z - ukf.x).copy() )\n",
    "    prev_t = t\n",
    "\n",
    "# stack and compute NIS\n",
    "ukf.innov = np.vstack(ukf.innov)\n",
    "dof      = ukf.dim_z\n",
    "nis      = np.sum((ukf.innov / np.sqrt(np.diag(ukf.R)))**2, axis=1)\n",
    "upper95  = chi2.ppf(0.95, dof)\n",
    "\n",
    "# ---- ground-track plot -----------------------------------------\n",
    "xs = np.array([h[1] for h in ukf.history])\n",
    "plt.figure(figsize=(6,6))\n",
    "plt.plot(xs[:,0]/1e3, xs[:,1]/1e3, lw=0.6)\n",
    "plt.gca().set_aspect(\"equal\")\n",
    "plt.xlabel(\"X [km]\"); plt.ylabel(\"Y [km]\")\n",
    "plt.title(\"UKF ground-track (ECEF)\")\n",
    "plt.tight_layout()\n",
    "plt.show()\n",
    "\n",
    "# ---- NIS consistency check --------------------------------------\n",
    "plt.figure(figsize=(8,2.5))\n",
    "plt.plot(nis, lw=0.4)\n",
    "plt.axhline(upper95, ls=\"--\", c=\"r\", label=\"95% χ² bound\")\n",
    "plt.ylabel(\"NIS\"); plt.legend(); plt.tight_layout(); plt.show()\n"
   ]
  }
 ],
 "metadata": {
  "kernelspec": {
   "display_name": "Python 3 (ipykernel)",
   "language": "python",
   "name": "python3"
  },
  "language_info": {
   "codemirror_mode": {
    "name": "ipython",
    "version": 3
   },
   "file_extension": ".py",
   "mimetype": "text/x-python",
   "name": "python",
   "nbconvert_exporter": "python",
   "pygments_lexer": "ipython3",
   "version": "3.11.13"
  }
 },
 "nbformat": 4,
 "nbformat_minor": 5
}
