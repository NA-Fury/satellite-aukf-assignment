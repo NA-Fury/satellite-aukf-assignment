{
 "cells": [
  {
   "cell_type": "code",
   "execution_count": null,
   "id": "0",
   "metadata": {},
   "outputs": [],
   "source": [
    "# --- 0. Orekit data ----------------------------------------------------------\n",
    "import orekit, pathlib, os, json, numpy as np, pandas as pd, matplotlib.pyplot as plt\n",
    "from java.io import File\n",
    "from org.orekit.data import DataContext, DirectoryCrawler\n",
    "orekit.initVM()\n",
    "\n",
    "OREKIT_DIR = pathlib.Path(\"orekit-data\").resolve()\n",
    "dpm = DataContext.getDefault().getDataProvidersManager()\n",
    "dpm.clearProviders()\n",
    "dpm.addProvider(DirectoryCrawler(File(str(OREKIT_DIR))))\n",
    "print(\"✔️ Orekit data registered\")\n",
    "\n",
    "# --- 1. Load measurements ----------------------------------------------------\n",
    "df        = pd.read_parquet(\"GPS_clean.parquet\")\n",
    "meas_cols = json.load(open(\"meas_cols.json\"))\n",
    "meas      = df[meas_cols].values.astype(\"float64\")   # (N, 6)\n",
    "epochs    = df[\"time\"].values.astype(\"datetime64[s]\")\n",
    "\n",
    "# --- 2. UKF + propagator -----------------------------------------------------\n",
    "from aukf   import UnscentedKalman     # your Step-3 class\n",
    "from utils  import OrbitPropagator     # wrapper around Orekit NumericalPropagator\n",
    "\n",
    "ukf        = UnscentedKalman(OrbitPropagator(), meas_cols,\n",
    "                             alpha=1e-3, beta=2.0, kappa=0.0,\n",
    "                             q0=1e-2,  r0=25.0, adaptive=None)\n",
    "\n",
    "ukf.init_from_measurement(0.0, meas[0])        # x₀ ← first epoch\n",
    "prev_t = epochs[0]\n",
    "\n",
    "hist = [ukf.x.copy()]\n",
    "for t, z in zip(epochs[1:], meas[1:]):\n",
    "    dt = (t - prev_t).astype(int)\n",
    "    ukf.step(dt, z)\n",
    "    hist.append(ukf.x.copy())\n",
    "    prev_t = t\n",
    "\n",
    "hist = np.array(hist)                           # (N, 6)\n",
    "\n",
    "# --- 3. Quick ground-track plot ---------------------------------------------\n",
    "plt.figure(figsize=(6,6))\n",
    "plt.plot(hist[:,0]/1e3, hist[:,1]/1e3, lw=0.4)\n",
    "plt.gca().set_aspect(\"equal\")\n",
    "plt.xlabel(\"X [km]\"); plt.ylabel(\"Y [km]\")\n",
    "plt.title(\"UKF ground-track (ECEF)\")\n",
    "plt.tight_layout()\n"
   ]
  },
  {
   "cell_type": "code",
   "execution_count": null,
   "id": "1",
   "metadata": {},
   "outputs": [],
   "source": []
  }
 ],
 "metadata": {
  "kernelspec": {
   "display_name": "Python 3 (ipykernel)",
   "language": "python",
   "name": "python3"
  },
  "language_info": {
   "codemirror_mode": {
    "name": "ipython",
    "version": 3
   },
   "file_extension": ".py",
   "mimetype": "text/x-python",
   "name": "python",
   "nbconvert_exporter": "python",
   "pygments_lexer": "ipython3",
   "version": "3.11.13"
  }
 },
 "nbformat": 4,
 "nbformat_minor": 5
}
