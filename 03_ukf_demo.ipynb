{
 "cells": [
  {
   "cell_type": "code",
   "execution_count": null,
   "id": "0",
   "metadata": {},
   "outputs": [],
   "source": [
    "# 03_ukf_demo.ipynb  ── run cell ─────────────────────────────────────────────\n",
    "%matplotlib inline\n",
    "import json, numpy as np, pandas as pd, matplotlib.pyplot as plt\n",
    "\n",
    "# 1) Load pre-processed measurements ----------------------------------------\n",
    "df         = pd.read_parquet(\"GPS_clean.parquet\")\n",
    "meas_cols  = json.load(open(\"meas_cols.json\"))\n",
    "meas       = df[meas_cols].values.astype(\"float64\")        # (N, 6)\n",
    "epochs     = df[\"time\"].values.astype(\"datetime64[s]\")\n",
    "\n",
    "# 2) UKF + Orekit propagator -----------------------------------------------\n",
    "from utils import OrbitPropagator      # auto-registers orekit-data\n",
    "from aukf  import UnscentedKalman\n",
    "\n",
    "prop = OrbitPropagator()               # ⭐ NEW – create the propagator\n",
    "ukf  = UnscentedKalman(prop, meas_cols,    # ⭐ pass meas_cols, not cols\n",
    "                       q0=1e-2, r0=25.0,\n",
    "                       adaptive=\"iae\")     # Innovation-Based Adaptive Est.\n",
    "\n",
    "ukf.init_from_measurement(0.0, meas[0])\n",
    "prev_t = epochs[0]\n",
    "\n",
    "hist = [ukf.x.copy()]\n",
    "for t, z in zip(epochs[1:], meas[1:]):\n",
    "    dt = (t - prev_t).astype(int)\n",
    "    ukf.step(dt, z)\n",
    "    hist.append(ukf.x.copy())\n",
    "    prev_t = t\n",
    "\n",
    "hist = np.asarray(hist)\n",
    "\n",
    "# 3) Ground-track quick-look -----------------------------------------------\n",
    "plt.figure(figsize=(6,6))\n",
    "plt.plot(hist[:,0]/1e3, hist[:,1]/1e3, lw=0.4)\n",
    "plt.gca().set_aspect(\"equal\")\n",
    "plt.xlabel(\"X [km]\"); plt.ylabel(\"Y [km]\")\n",
    "plt.title(\"UKF ground-track (ECEF)\")\n",
    "plt.tight_layout()\n",
    "plt.show()\n"
   ]
  },
  {
   "cell_type": "code",
   "execution_count": null,
   "id": "1",
   "metadata": {},
   "outputs": [],
   "source": []
  }
 ],
 "metadata": {
  "kernelspec": {
   "display_name": "Python 3 (ipykernel)",
   "language": "python",
   "name": "python3"
  },
  "language_info": {
   "codemirror_mode": {
    "name": "ipython",
    "version": 3
   },
   "file_extension": ".py",
   "mimetype": "text/x-python",
   "name": "python",
   "nbconvert_exporter": "python",
   "pygments_lexer": "ipython3",
   "version": "3.11.13"
  }
 },
 "nbformat": 4,
 "nbformat_minor": 5
}
