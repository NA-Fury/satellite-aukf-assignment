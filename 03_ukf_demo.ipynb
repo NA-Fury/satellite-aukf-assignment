{
 "cells": [
  {
   "cell_type": "code",
   "execution_count": 1,
   "id": "0",
   "metadata": {},
   "outputs": [
    {
     "name": "stdout",
     "output_type": "stream",
     "text": [
      "File or folder: C:\\Users\\nazih\\satellite-aukf-assignment\\orekit-data.zip  not found\n",
      "\n",
      "\n",
      "            The Orekit library relies on some external data for physical models.\n",
      "            Typical data are the Earth Orientation Parameters and the leap seconds history,\n",
      "            both being provided by the IERS or the planetary ephemerides provided by JPL.\n",
      "            Such data is stored in text or binary files with specific formats that Orekit knows\n",
      "            how to read, and needs to be provided for the library to work.\n",
      "\n",
      "            You can download a starting file with this data from the orekit gitlab at:\n",
      "            https://gitlab.orekit.org/orekit/orekit-data\n",
      "\n",
      "            or by the function:\n",
      "            orekit.pyhelpers.download_orekit_data_curdir()\n",
      "\n",
      "            \n",
      "✔️  Orekit data registered: C:\\Users\\nazih\\satellite-aukf-assignment\\orekit-data\n"
     ]
    },
    {
     "ename": "TypeError",
     "evalue": "UnscentedKalman.__init__() takes 2 positional arguments but 3 positional arguments (and 3 keyword-only arguments) were given",
     "output_type": "error",
     "traceback": [
      "\u001b[31m---------------------------------------------------------------------------\u001b[39m",
      "\u001b[31mTypeError\u001b[39m                                 Traceback (most recent call last)",
      "\u001b[36mCell\u001b[39m\u001b[36m \u001b[39m\u001b[32mIn[1]\u001b[39m\u001b[32m, line 17\u001b[39m\n\u001b[32m     14\u001b[39m \u001b[38;5;28;01mfrom\u001b[39;00m\u001b[38;5;250m \u001b[39m\u001b[34;01maukf\u001b[39;00m\u001b[38;5;250m   \u001b[39m\u001b[38;5;28;01mimport\u001b[39;00m UnscentedKalman\n\u001b[32m     16\u001b[39m prop = OrbitPropagator()\n\u001b[32m---> \u001b[39m\u001b[32m17\u001b[39m ukf  = \u001b[43mUnscentedKalman\u001b[49m\u001b[43m(\u001b[49m\n\u001b[32m     18\u001b[39m \u001b[43m    \u001b[49m\u001b[43mprop\u001b[49m\u001b[43m,\u001b[49m\n\u001b[32m     19\u001b[39m \u001b[43m    \u001b[49m\u001b[43mmeas_cols\u001b[49m\u001b[43m,\u001b[49m\n\u001b[32m     20\u001b[39m \u001b[43m    \u001b[49m\u001b[43mq0\u001b[49m\u001b[43m=\u001b[49m\u001b[32;43m1e-2\u001b[39;49m\u001b[43m,\u001b[49m\n\u001b[32m     21\u001b[39m \u001b[43m    \u001b[49m\u001b[43mr0\u001b[49m\u001b[43m=\u001b[49m\u001b[32;43m25.0\u001b[39;49m\u001b[43m,\u001b[49m\n\u001b[32m     22\u001b[39m \u001b[43m    \u001b[49m\u001b[43madaptive\u001b[49m\u001b[43m=\u001b[49m\u001b[33;43m\"\u001b[39;49m\u001b[33;43miae\u001b[39;49m\u001b[33;43m\"\u001b[39;49m\u001b[43m    \u001b[49m\u001b[38;5;66;43;03m# Innovation‐based adaptive R\u001b[39;49;00m\n\u001b[32m     23\u001b[39m \u001b[43m)\u001b[49m\n\u001b[32m     25\u001b[39m \u001b[38;5;66;03m# 3) initialize\u001b[39;00m\n\u001b[32m     26\u001b[39m ukf.init_from_measurement(\u001b[32m0.0\u001b[39m, meas[\u001b[32m0\u001b[39m])\n",
      "\u001b[31mTypeError\u001b[39m: UnscentedKalman.__init__() takes 2 positional arguments but 3 positional arguments (and 3 keyword-only arguments) were given"
     ]
    }
   ],
   "source": [
    "# 03_ukf_demo.ipynb\n",
    "\n",
    "import json, numpy as np, pandas as pd\n",
    "import matplotlib.pyplot as plt\n",
    "\n",
    "# 1) load & prep\n",
    "df        = pd.read_parquet(\"GPS_clean.parquet\")\n",
    "meas_cols = json.load(open(\"meas_cols.json\"))\n",
    "meas      = df[meas_cols].values.astype(\"float64\")\n",
    "epochs    = df[\"time\"].values.astype(\"datetime64[s]\")\n",
    "\n",
    "# 2) propagator & UKF\n",
    "from utils  import OrbitPropagator, plot_ground_track\n",
    "from aukf   import UnscentedKalman\n",
    "\n",
    "ukf  = UnscentedKalman(\n",
    "    meas_cols,\n",
    "    q0=1e-2,\n",
    "    r0=25.0,\n",
    "    adaptive=\"iae\"    # Innovation‐based adaptive R\n",
    ")\n",
    "\n",
    "# 3) initialize\n",
    "ukf.init_from_measurement(0.0, meas[0])\n",
    "prev_t = epochs[0]\n",
    "\n",
    "# 4) step through all epochs\n",
    "for t, z in zip(epochs[1:], meas[1:]):\n",
    "    dt = (t - prev_t).astype(int)\n",
    "    ukf.step(float(dt), z)\n",
    "    prev_t = t\n",
    "\n",
    "# 5) extract & plot\n",
    "hist = np.vstack([x for _, x in ukf.history])\n",
    "plot_ground_track(hist, title=\"UKF ground-track (ECEF)\")\n"
   ]
  },
  {
   "cell_type": "code",
   "execution_count": null,
   "id": "1",
   "metadata": {},
   "outputs": [],
   "source": []
  }
 ],
 "metadata": {
  "kernelspec": {
   "display_name": "Python 3 (ipykernel)",
   "language": "python",
   "name": "python3"
  },
  "language_info": {
   "codemirror_mode": {
    "name": "ipython",
    "version": 3
   },
   "file_extension": ".py",
   "mimetype": "text/x-python",
   "name": "python",
   "nbconvert_exporter": "python",
   "pygments_lexer": "ipython3",
   "version": "3.11.13"
  }
 },
 "nbformat": 4,
 "nbformat_minor": 5
}
