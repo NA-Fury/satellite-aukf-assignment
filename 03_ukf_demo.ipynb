{
 "cells": [
  {
   "cell_type": "code",
   "execution_count": 2,
   "id": "d12e218a-6584-48dc-b580-534cf181ed77",
   "metadata": {},
   "outputs": [
    {
     "name": "stdout",
     "output_type": "stream",
     "text": [
      "✔️ Orekit data registered\n",
      "Failed to load orekitdata library.\n",
      "                  Install with `pip install git+https://gitlab.orekit.org/orekit/orekit-data.git`\n",
      "                  Will try to load Orekit data using the folder or filename orekit-data.zip\n",
      "File or folder: C:\\Users\\nazih\\satellite-aukf-assignment\\orekit-data.zip  not found\n",
      "\n",
      "\n",
      "            The Orekit library relies on some external data for physical models.\n",
      "            Typical data are the Earth Orientation Parameters and the leap seconds history,\n",
      "            both being provided by the IERS or the planetary ephemerides provided by JPL.\n",
      "            Such data is stored in text or binary files with specific formats that Orekit knows\n",
      "            how to read, and needs to be provided for the library to work.\n",
      "\n",
      "            You can download a starting file with this data from the orekit gitlab at:\n",
      "            https://gitlab.orekit.org/orekit/orekit-data\n",
      "\n",
      "            or by the function:\n",
      "            orekit.pyhelpers.download_orekit_data_curdir()\n",
      "\n",
      "            \n",
      "✔️  Orekit now sees C:\\Users\\nazih\\satellite-aukf-assignment\\orekit-data\n"
     ]
    },
    {
     "ename": "AttributeError",
     "evalue": "'OrbitPropagator' object has no attribute 'Vector3D'",
     "output_type": "error",
     "traceback": [
      "\u001b[31m---------------------------------------------------------------------------\u001b[39m",
      "\u001b[31mAttributeError\u001b[39m                            Traceback (most recent call last)",
      "\u001b[36mCell\u001b[39m\u001b[36m \u001b[39m\u001b[32mIn[2]\u001b[39m\u001b[32m, line 33\u001b[39m\n\u001b[32m     31\u001b[39m \u001b[38;5;28;01mfor\u001b[39;00m t, z \u001b[38;5;129;01min\u001b[39;00m \u001b[38;5;28mzip\u001b[39m(epochs[\u001b[32m1\u001b[39m:], meas[\u001b[32m1\u001b[39m:]):\n\u001b[32m     32\u001b[39m     dt = (t - prev_t).astype(\u001b[38;5;28mint\u001b[39m)\n\u001b[32m---> \u001b[39m\u001b[32m33\u001b[39m     \u001b[43mukf\u001b[49m\u001b[43m.\u001b[49m\u001b[43mstep\u001b[49m\u001b[43m(\u001b[49m\u001b[43mdt\u001b[49m\u001b[43m,\u001b[49m\u001b[43m \u001b[49m\u001b[43mz\u001b[49m\u001b[43m)\u001b[49m\n\u001b[32m     34\u001b[39m     hist.append(ukf.x.copy())\n\u001b[32m     35\u001b[39m     prev_t = t\n",
      "\u001b[36mFile \u001b[39m\u001b[32m~\\satellite-aukf-assignment\\aukf.py:91\u001b[39m, in \u001b[36mUnscentedKalman.step\u001b[39m\u001b[34m(self, dt, Z)\u001b[39m\n\u001b[32m     87\u001b[39m χ, Wm, Wc = _sigma_points(\u001b[38;5;28mself\u001b[39m.x, \u001b[38;5;28mself\u001b[39m.P,\n\u001b[32m     88\u001b[39m                           \u001b[38;5;28mself\u001b[39m.alpha, \u001b[38;5;28mself\u001b[39m.beta, \u001b[38;5;28mself\u001b[39m.kappa)\n\u001b[32m     90\u001b[39m \u001b[38;5;66;03m# ---- PREDICT: propagate each σ-point with Orekit --------------\u001b[39;00m\n\u001b[32m---> \u001b[39m\u001b[32m91\u001b[39m χ_pred = np.vstack(\u001b[43m[\u001b[49m\u001b[38;5;28;43mself\u001b[39;49m\u001b[43m.\u001b[49m\u001b[43m_propagate_sigma\u001b[49m\u001b[43m(\u001b[49m\u001b[43msig\u001b[49m\u001b[43m,\u001b[49m\u001b[43m \u001b[49m\u001b[43mdt\u001b[49m\u001b[43m)\u001b[49m\u001b[43m \u001b[49m\u001b[38;5;28;43;01mfor\u001b[39;49;00m\u001b[43m \u001b[49m\u001b[43msig\u001b[49m\u001b[43m \u001b[49m\u001b[38;5;129;43;01min\u001b[39;49;00m\u001b[43m \u001b[49m\u001b[43mχ\u001b[49m\u001b[43m]\u001b[49m)\n\u001b[32m     92\u001b[39m x_pred = χ_pred.T @ Wm\n\u001b[32m     93\u001b[39m P_pred = (χ_pred - x_pred).T @ np.diag(Wc) @ (χ_pred - x_pred) + \u001b[38;5;28mself\u001b[39m.Q\n",
      "\u001b[36mFile \u001b[39m\u001b[32m~\\satellite-aukf-assignment\\aukf.py:91\u001b[39m, in \u001b[36m<listcomp>\u001b[39m\u001b[34m(.0)\u001b[39m\n\u001b[32m     87\u001b[39m χ, Wm, Wc = _sigma_points(\u001b[38;5;28mself\u001b[39m.x, \u001b[38;5;28mself\u001b[39m.P,\n\u001b[32m     88\u001b[39m                           \u001b[38;5;28mself\u001b[39m.alpha, \u001b[38;5;28mself\u001b[39m.beta, \u001b[38;5;28mself\u001b[39m.kappa)\n\u001b[32m     90\u001b[39m \u001b[38;5;66;03m# ---- PREDICT: propagate each σ-point with Orekit --------------\u001b[39;00m\n\u001b[32m---> \u001b[39m\u001b[32m91\u001b[39m χ_pred = np.vstack([\u001b[38;5;28;43mself\u001b[39;49m\u001b[43m.\u001b[49m\u001b[43m_propagate_sigma\u001b[49m\u001b[43m(\u001b[49m\u001b[43msig\u001b[49m\u001b[43m,\u001b[49m\u001b[43m \u001b[49m\u001b[43mdt\u001b[49m\u001b[43m)\u001b[49m \u001b[38;5;28;01mfor\u001b[39;00m sig \u001b[38;5;129;01min\u001b[39;00m χ])\n\u001b[32m     92\u001b[39m x_pred = χ_pred.T @ Wm\n\u001b[32m     93\u001b[39m P_pred = (χ_pred - x_pred).T @ np.diag(Wc) @ (χ_pred - x_pred) + \u001b[38;5;28mself\u001b[39m.Q\n",
      "\u001b[36mFile \u001b[39m\u001b[32m~\\satellite-aukf-assignment\\aukf.py:124\u001b[39m, in \u001b[36mUnscentedKalman._propagate_sigma\u001b[39m\u001b[34m(self, sig, dt)\u001b[39m\n\u001b[32m    122\u001b[39m \u001b[38;5;66;03m# build Orekit orbit from sig (EME2000 frame)\u001b[39;00m\n\u001b[32m    123\u001b[39m eme2000 = FramesFactory.getEME2000()\n\u001b[32m--> \u001b[39m\u001b[32m124\u001b[39m pv = \u001b[38;5;28;43mself\u001b[39;49m\u001b[43m.\u001b[49m\u001b[43mprop\u001b[49m\u001b[43m.\u001b[49m\u001b[43mVector3D\u001b[49m(*sig[:\u001b[32m3\u001b[39m]), \u001b[38;5;28mself\u001b[39m.prop.Vector3D(*sig[\u001b[32m3\u001b[39m:])\n\u001b[32m    125\u001b[39m date0 = \u001b[38;5;28mself\u001b[39m.prop.AbsoluteDate(\n\u001b[32m    126\u001b[39m         *\u001b[38;5;28mself\u001b[39m.history[-\u001b[32m1\u001b[39m][:\u001b[32m1\u001b[39m],  \u001b[38;5;66;03m# current AbsoluteDate\u001b[39;00m\n\u001b[32m    127\u001b[39m     )\n\u001b[32m    128\u001b[39m orbit = CartesianOrbit(\u001b[38;5;28mself\u001b[39m.prop.PVCoordinates(*pv),\n\u001b[32m    129\u001b[39m                        eme2000, date0, Constants.WGS84_EARTH_MU)\n",
      "\u001b[31mAttributeError\u001b[39m: 'OrbitPropagator' object has no attribute 'Vector3D'"
     ]
    }
   ],
   "source": [
    "# --- 0. Orekit data ----------------------------------------------------------\n",
    "import orekit, pathlib, os, json, numpy as np, pandas as pd, matplotlib.pyplot as plt\n",
    "from java.io import File\n",
    "from org.orekit.data import DataContext, DirectoryCrawler\n",
    "orekit.initVM()\n",
    "\n",
    "OREKIT_DIR = pathlib.Path(\"orekit-data\").resolve()\n",
    "dpm = DataContext.getDefault().getDataProvidersManager()\n",
    "dpm.clearProviders()\n",
    "dpm.addProvider(DirectoryCrawler(File(str(OREKIT_DIR))))\n",
    "print(\"✔️ Orekit data registered\")\n",
    "\n",
    "# --- 1. Load measurements ----------------------------------------------------\n",
    "df        = pd.read_parquet(\"GPS_clean.parquet\")\n",
    "meas_cols = json.load(open(\"meas_cols.json\"))\n",
    "meas      = df[meas_cols].values.astype(\"float64\")   # (N, 6)\n",
    "epochs    = df[\"time\"].values.astype(\"datetime64[s]\")\n",
    "\n",
    "# --- 2. UKF + propagator -----------------------------------------------------\n",
    "from aukf   import UnscentedKalman     # your Step-3 class\n",
    "from utils  import OrbitPropagator     # wrapper around Orekit NumericalPropagator\n",
    "\n",
    "ukf        = UnscentedKalman(OrbitPropagator(), meas_cols,\n",
    "                             alpha=1e-3, beta=2.0, kappa=0.0,\n",
    "                             q0=1e-2,  r0=25.0, adaptive=None)\n",
    "\n",
    "ukf.init_from_measurement(0.0, meas[0])        # x₀ ← first epoch\n",
    "prev_t = epochs[0]\n",
    "\n",
    "hist = [ukf.x.copy()]\n",
    "for t, z in zip(epochs[1:], meas[1:]):\n",
    "    dt = (t - prev_t).astype(int)\n",
    "    ukf.step(dt, z)\n",
    "    hist.append(ukf.x.copy())\n",
    "    prev_t = t\n",
    "\n",
    "hist = np.array(hist)                           # (N, 6)\n",
    "\n",
    "# --- 3. Quick ground-track plot ---------------------------------------------\n",
    "plt.figure(figsize=(6,6))\n",
    "plt.plot(hist[:,0]/1e3, hist[:,1]/1e3, lw=0.4)\n",
    "plt.gca().set_aspect(\"equal\")\n",
    "plt.xlabel(\"X [km]\"); plt.ylabel(\"Y [km]\")\n",
    "plt.title(\"UKF ground-track (ECEF)\")\n",
    "plt.tight_layout()\n"
   ]
  },
  {
   "cell_type": "code",
   "execution_count": null,
   "id": "795335a6-866d-40f2-831a-a69c260ac03f",
   "metadata": {},
   "outputs": [],
   "source": []
  }
 ],
 "metadata": {
  "kernelspec": {
   "display_name": "Python 3 (ipykernel)",
   "language": "python",
   "name": "python3"
  },
  "language_info": {
   "codemirror_mode": {
    "name": "ipython",
    "version": 3
   },
   "file_extension": ".py",
   "mimetype": "text/x-python",
   "name": "python",
   "nbconvert_exporter": "python",
   "pygments_lexer": "ipython3",
   "version": "3.11.13"
  }
 },
 "nbformat": 4,
 "nbformat_minor": 5
}
