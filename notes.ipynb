{
 "cells": [
  {
   "cell_type": "code",
   "execution_count": 1,
   "id": "3b9da8e3-eeb5-415b-86a7-436bee485902",
   "metadata": {},
   "outputs": [
    {
     "ename": "IndentationError",
     "evalue": "unindent does not match any outer indentation level (aukf.py, line 94)",
     "output_type": "error",
     "traceback": [
      "Traceback \u001b[36m(most recent call last)\u001b[39m:\n",
      "  File \u001b[92m~\\anaconda3\\envs\\aukf-env\\Lib\\site-packages\\IPython\\core\\interactiveshell.py:3699\u001b[39m in \u001b[95mrun_code\u001b[39m\n    exec(code_obj, self.user_global_ns, self.user_ns)\n",
      "\u001b[36m  \u001b[39m\u001b[36mCell\u001b[39m\u001b[36m \u001b[39m\u001b[32mIn[1]\u001b[39m\u001b[32m, line 2\u001b[39m\n\u001b[31m    \u001b[39m\u001b[31mfrom aukf import _sigma_points\u001b[39m\n",
      "  \u001b[36mFile \u001b[39m\u001b[32m~\\satellite-aukf-assignment\\aukf.py:94\u001b[39m\n\u001b[31m    \u001b[39m\u001b[31mdef init_from_measurement(self, t0_sec: float, z0: np.ndarray):\u001b[39m\n                                                                   ^\n\u001b[31mIndentationError\u001b[39m\u001b[31m:\u001b[39m unindent does not match any outer indentation level\n"
     ]
    }
   ],
   "source": [
    "import numpy as np               \n",
    "from aukf import _sigma_points\n",
    "\n",
    "x  = np.zeros(6)\n",
    "P  = np.eye(6)\n",
    "\n",
    "χ, Wm, Wc = _sigma_points(x, P, 1e-3, 2.0, 0.0)\n",
    "print(χ.shape, Wm.sum().round(6), Wc.sum().round(6))\n"
   ]
  },
  {
   "cell_type": "code",
   "execution_count": 2,
   "id": "b8cb1711-4ab1-4d8e-8475-2f00004efc9e",
   "metadata": {},
   "outputs": [
    {
     "data": {
      "text/html": [
       "<div>\n",
       "<style scoped>\n",
       "    .dataframe tbody tr th:only-of-type {\n",
       "        vertical-align: middle;\n",
       "    }\n",
       "\n",
       "    .dataframe tbody tr th {\n",
       "        vertical-align: top;\n",
       "    }\n",
       "\n",
       "    .dataframe thead th {\n",
       "        text-align: right;\n",
       "    }\n",
       "</style>\n",
       "<table border=\"1\" class=\"dataframe\">\n",
       "  <thead>\n",
       "    <tr style=\"text-align: right;\">\n",
       "      <th></th>\n",
       "      <th>time</th>\n",
       "      <th>position_x</th>\n",
       "      <th>position_y</th>\n",
       "      <th>position_z</th>\n",
       "      <th>velocity_x</th>\n",
       "      <th>velocity_y</th>\n",
       "      <th>velocity_z</th>\n",
       "    </tr>\n",
       "  </thead>\n",
       "  <tbody>\n",
       "    <tr>\n",
       "      <th>0</th>\n",
       "      <td>2024-04-25 00:00:18</td>\n",
       "      <td>3702078.25</td>\n",
       "      <td>-4845315.0</td>\n",
       "      <td>3115671.75</td>\n",
       "      <td>2073.661133</td>\n",
       "      <td>-2792.809570</td>\n",
       "      <td>-6781.555664</td>\n",
       "    </tr>\n",
       "    <tr>\n",
       "      <th>1</th>\n",
       "      <td>2024-04-25 00:00:19</td>\n",
       "      <td>3704143.00</td>\n",
       "      <td>-4848112.5</td>\n",
       "      <td>3108866.00</td>\n",
       "      <td>2068.677246</td>\n",
       "      <td>-2787.120850</td>\n",
       "      <td>-6785.429688</td>\n",
       "    </tr>\n",
       "    <tr>\n",
       "      <th>2</th>\n",
       "      <td>2024-04-25 00:00:20</td>\n",
       "      <td>3706217.00</td>\n",
       "      <td>-4850886.0</td>\n",
       "      <td>3102091.00</td>\n",
       "      <td>2063.691650</td>\n",
       "      <td>-2781.427979</td>\n",
       "      <td>-6789.295410</td>\n",
       "    </tr>\n",
       "    <tr>\n",
       "      <th>3</th>\n",
       "      <td>2024-04-25 00:00:21</td>\n",
       "      <td>3708287.00</td>\n",
       "      <td>-4853694.0</td>\n",
       "      <td>3095279.50</td>\n",
       "      <td>2058.704346</td>\n",
       "      <td>-2775.730957</td>\n",
       "      <td>-6793.152832</td>\n",
       "    </tr>\n",
       "    <tr>\n",
       "      <th>4</th>\n",
       "      <td>2024-04-25 00:00:22</td>\n",
       "      <td>3710325.75</td>\n",
       "      <td>-4856433.5</td>\n",
       "      <td>3088503.25</td>\n",
       "      <td>2053.715332</td>\n",
       "      <td>-2770.029785</td>\n",
       "      <td>-6797.001465</td>\n",
       "    </tr>\n",
       "  </tbody>\n",
       "</table>\n",
       "</div>"
      ],
      "text/plain": [
       "                 time  position_x  position_y  position_z   velocity_x  \\\n",
       "0 2024-04-25 00:00:18  3702078.25  -4845315.0  3115671.75  2073.661133   \n",
       "1 2024-04-25 00:00:19  3704143.00  -4848112.5  3108866.00  2068.677246   \n",
       "2 2024-04-25 00:00:20  3706217.00  -4850886.0  3102091.00  2063.691650   \n",
       "3 2024-04-25 00:00:21  3708287.00  -4853694.0  3095279.50  2058.704346   \n",
       "4 2024-04-25 00:00:22  3710325.75  -4856433.5  3088503.25  2053.715332   \n",
       "\n",
       "    velocity_y   velocity_z  \n",
       "0 -2792.809570 -6781.555664  \n",
       "1 -2787.120850 -6785.429688  \n",
       "2 -2781.427979 -6789.295410  \n",
       "3 -2775.730957 -6793.152832  \n",
       "4 -2770.029785 -6797.001465  "
      ]
     },
     "execution_count": 2,
     "metadata": {},
     "output_type": "execute_result"
    }
   ],
   "source": [
    "import pandas as pd\n",
    "pd.read_parquet(\"GPS_clean.parquet\").head()"
   ]
  },
  {
   "cell_type": "code",
   "execution_count": 1,
   "id": "535f058f-39d0-4b8b-bc55-99a29e3c7559",
   "metadata": {},
   "outputs": [
    {
     "data": {
      "text/plain": [
       "<pyarrow.parquet.core.ParquetFile at 0x1f49c572450>"
      ]
     },
     "execution_count": 1,
     "metadata": {},
     "output_type": "execute_result"
    }
   ],
   "source": [
    "import pandas as pd, pyarrow.parquet as pq\n",
    "pq.ParquetFile(\"GPS_clean.parquet\")    # succeeds ⇒ file healthy\n"
   ]
  },
  {
   "cell_type": "code",
   "execution_count": 1,
   "id": "b2bf24f8-e125-4e14-ac60-5f34d21a5933",
   "metadata": {},
   "outputs": [
    {
     "name": "stdout",
     "output_type": "stream",
     "text": [
      "Sun GM = 1.3271244004127946e+20\n"
     ]
    }
   ],
   "source": [
    "import orekit, pathlib\n",
    "from java.io import File\n",
    "from org.orekit.data import DataContext, DirectoryCrawler\n",
    "orekit.initVM()\n",
    "\n",
    "dpm = DataContext.getDefault().getDataProvidersManager()\n",
    "dpm.clearProviders()\n",
    "dpm.addProvider(DirectoryCrawler(File(str(pathlib.Path(\"orekit-data\")))))\n",
    "\n",
    "from org.orekit.bodies import CelestialBodyFactory\n",
    "sun = CelestialBodyFactory.getSun()      # ← should succeed now\n",
    "print(\"Sun GM =\", sun.getGM())\n"
   ]
  },
  {
   "cell_type": "code",
   "execution_count": 2,
   "id": "6c60dd27-4cd2-44ba-b9bf-f13157a8ee95",
   "metadata": {},
   "outputs": [
    {
     "name": "stdout",
     "output_type": "stream",
     "text": [
      "File or folder: C:\\Users\\nazih\\satellite-aukf-assignment\\orekit-data.zip  not found\n",
      "\n",
      "\n",
      "            The Orekit library relies on some external data for physical models.\n",
      "            Typical data are the Earth Orientation Parameters and the leap seconds history,\n",
      "            both being provided by the IERS or the planetary ephemerides provided by JPL.\n",
      "            Such data is stored in text or binary files with specific formats that Orekit knows\n",
      "            how to read, and needs to be provided for the library to work.\n",
      "\n",
      "            You can download a starting file with this data from the orekit gitlab at:\n",
      "            https://gitlab.orekit.org/orekit/orekit-data\n",
      "\n",
      "            or by the function:\n",
      "            orekit.pyhelpers.download_orekit_data_curdir()\n",
      "\n",
      "            \n",
      "✔️  Orekit data registered: C:\\Users\\nazih\\satellite-aukf-assignment\\orekit-data\n",
      "File or folder: C:\\Users\\nazih\\satellite-aukf-assignment\\orekit-data.zip  not found\n",
      "\n",
      "\n",
      "            The Orekit library relies on some external data for physical models.\n",
      "            Typical data are the Earth Orientation Parameters and the leap seconds history,\n",
      "            both being provided by the IERS or the planetary ephemerides provided by JPL.\n",
      "            Such data is stored in text or binary files with specific formats that Orekit knows\n",
      "            how to read, and needs to be provided for the library to work.\n",
      "\n",
      "            You can download a starting file with this data from the orekit gitlab at:\n",
      "            https://gitlab.orekit.org/orekit/orekit-data\n",
      "\n",
      "            or by the function:\n",
      "            orekit.pyhelpers.download_orekit_data_curdir()\n",
      "\n",
      "            \n",
      "✔️  Orekit data registered: C:\\Users\\nazih\\satellite-aukf-assignment\\orekit-data\n"
     ]
    },
    {
     "data": {
      "text/plain": [
       "<module 'utils' from 'C:\\\\Users\\\\nazih\\\\satellite-aukf-assignment\\\\utils.py'>"
      ]
     },
     "execution_count": 2,
     "metadata": {},
     "output_type": "execute_result"
    }
   ],
   "source": [
    "import importlib, utils         # reload if already imported\n",
    "importlib.reload(utils)\n"
   ]
  },
  {
   "cell_type": "code",
   "execution_count": 4,
   "id": "2df12896-3333-4f41-9ee7-8aa3e7042a69",
   "metadata": {},
   "outputs": [
    {
     "ename": "AttributeError",
     "evalue": "module 'orekit' has no attribute 'isJVMStarted'",
     "output_type": "error",
     "traceback": [
      "\u001b[31m---------------------------------------------------------------------------\u001b[39m",
      "\u001b[31mAttributeError\u001b[39m                            Traceback (most recent call last)",
      "\u001b[36mCell\u001b[39m\u001b[36m \u001b[39m\u001b[32mIn[4]\u001b[39m\u001b[32m, line 1\u001b[39m\n\u001b[32m----> \u001b[39m\u001b[32m1\u001b[39m \u001b[38;5;28;01mimport\u001b[39;00m\u001b[38;5;250m \u001b[39m\u001b[34;01maukf\u001b[39;00m,\u001b[38;5;250m \u001b[39m\u001b[34;01mutils\u001b[39;00m,\u001b[38;5;250m \u001b[39m\u001b[34;01mjson\u001b[39;00m,\u001b[38;5;250m \u001b[39m\u001b[34;01mpandas\u001b[39;00m\u001b[38;5;250m \u001b[39m\u001b[38;5;28;01mas\u001b[39;00m\u001b[38;5;250m \u001b[39m\u001b[34;01mpd\u001b[39;00m\n\u001b[32m      2\u001b[39m \u001b[38;5;28mprint\u001b[39m(\u001b[33m\"\u001b[39m\u001b[33mVM started?\u001b[39m\u001b[33m\"\u001b[39m, utils.orekit.isJVMStarted())          \u001b[38;5;66;03m# → True\u001b[39;00m\n\u001b[32m      3\u001b[39m \u001b[38;5;28mprint\u001b[39m(\u001b[33m\"\u001b[39m\u001b[33mSun GM   :\u001b[39m\u001b[33m\"\u001b[39m, utils.CelestialBodyFactory.getSun().getGM())\n",
      "\u001b[36mFile \u001b[39m\u001b[32m~\\satellite-aukf-assignment\\aukf.py:6\u001b[39m\n\u001b[32m      3\u001b[39m \u001b[38;5;28;01mimport\u001b[39;00m\u001b[38;5;250m \u001b[39m\u001b[34;01mnumpy\u001b[39;00m\u001b[38;5;250m \u001b[39m\u001b[38;5;28;01mas\u001b[39;00m\u001b[38;5;250m \u001b[39m\u001b[34;01mnp\u001b[39;00m\n\u001b[32m      5\u001b[39m \u001b[38;5;28;01mimport\u001b[39;00m\u001b[38;5;250m \u001b[39m\u001b[34;01morekit\u001b[39;00m,\u001b[38;5;250m \u001b[39m\u001b[34;01mos\u001b[39;00m\n\u001b[32m----> \u001b[39m\u001b[32m6\u001b[39m \u001b[38;5;28;01mif\u001b[39;00m \u001b[38;5;129;01mnot\u001b[39;00m \u001b[43morekit\u001b[49m\u001b[43m.\u001b[49m\u001b[43misJVMStarted\u001b[49m():\n\u001b[32m      7\u001b[39m     orekit.initVM()\n\u001b[32m      9\u001b[39m \u001b[38;5;66;03m# ── Orekit bits needed for sigma-point propagation ───────────────────────\u001b[39;00m\n",
      "\u001b[31mAttributeError\u001b[39m: module 'orekit' has no attribute 'isJVMStarted'"
     ]
    }
   ],
   "source": [
    "import aukf, utils, json, pandas as pd\n",
    "print(\"VM started?\", utils.orekit.isJVMStarted())          # → True\n",
    "print(\"Sun GM   :\", utils.CelestialBodyFactory.getSun().getGM())\n"
   ]
  },
  {
   "cell_type": "code",
   "execution_count": 5,
   "id": "0d84645e-aa54-4388-8357-ff2dafa2dd23",
   "metadata": {},
   "outputs": [],
   "source": [
    "from utils import OrbitPropagator      # still OK\n",
    "from aukf  import UnscentedKalman      # now imports cleanly\n"
   ]
  },
  {
   "cell_type": "code",
   "execution_count": 6,
   "id": "ea70e4cb-ee02-4aec-a40f-1cbdb2201ae5",
   "metadata": {},
   "outputs": [
    {
     "name": "stdout",
     "output_type": "stream",
     "text": [
      "File or folder: C:\\Users\\nazih\\satellite-aukf-assignment\\orekit-data.zip  not found\n",
      "\n",
      "\n",
      "            The Orekit library relies on some external data for physical models.\n",
      "            Typical data are the Earth Orientation Parameters and the leap seconds history,\n",
      "            both being provided by the IERS or the planetary ephemerides provided by JPL.\n",
      "            Such data is stored in text or binary files with specific formats that Orekit knows\n",
      "            how to read, and needs to be provided for the library to work.\n",
      "\n",
      "            You can download a starting file with this data from the orekit gitlab at:\n",
      "            https://gitlab.orekit.org/orekit/orekit-data\n",
      "\n",
      "            or by the function:\n",
      "            orekit.pyhelpers.download_orekit_data_curdir()\n",
      "\n",
      "            \n",
      "✔️  Orekit data registered: C:\\Users\\nazih\\satellite-aukf-assignment\\orekit-data\n"
     ]
    },
    {
     "ename": "NameError",
     "evalue": "name 'epochs' is not defined",
     "output_type": "error",
     "traceback": [
      "\u001b[31m---------------------------------------------------------------------------\u001b[39m",
      "\u001b[31mNameError\u001b[39m                                 Traceback (most recent call last)",
      "\u001b[36mCell\u001b[39m\u001b[36m \u001b[39m\u001b[32mIn[6]\u001b[39m\u001b[32m, line 5\u001b[39m\n\u001b[32m      2\u001b[39m importlib.reload(utils)        \u001b[38;5;66;03m# pick up the patch\u001b[39;00m\n\u001b[32m      4\u001b[39m \u001b[38;5;66;03m# rerun the UKF loop ↓\u001b[39;00m\n\u001b[32m----> \u001b[39m\u001b[32m5\u001b[39m \u001b[38;5;28;01mfor\u001b[39;00m k, (t, z) \u001b[38;5;129;01min\u001b[39;00m \u001b[38;5;28menumerate\u001b[39m(\u001b[38;5;28mzip\u001b[39m(\u001b[43mepochs\u001b[49m[\u001b[32m1\u001b[39m:], meas[\u001b[32m1\u001b[39m:])):\n\u001b[32m      6\u001b[39m     dt = \u001b[38;5;28mint\u001b[39m(t - prev_t)\n\u001b[32m      7\u001b[39m     ukf.step(dt, z)\n",
      "\u001b[31mNameError\u001b[39m: name 'epochs' is not defined"
     ]
    }
   ],
   "source": [
    "import importlib, utils\n",
    "importlib.reload(utils)        # pick up the patch\n",
    "\n",
    "# rerun the UKF loop ↓\n",
    "for k, (t, z) in enumerate(zip(epochs[1:], meas[1:])):\n",
    "    dt = int(t - prev_t)\n",
    "    ukf.step(dt, z)\n",
    "    prev_t = t\n",
    "    if k == 199:\n",
    "        print(\"✓ first 200 steps survived\")\n",
    "        break\n",
    "\n"
   ]
  },
  {
   "cell_type": "code",
   "execution_count": 2,
   "id": "b1f5ac4c-ce88-4ad7-81f9-1b4423ed1888",
   "metadata": {},
   "outputs": [
    {
     "name": "stdout",
     "output_type": "stream",
     "text": [
      "File or folder: C:\\Users\\nazih\\satellite-aukf-assignment\\orekit-data.zip  not found\n",
      "\n",
      "\n",
      "            The Orekit library relies on some external data for physical models.\n",
      "            Typical data are the Earth Orientation Parameters and the leap seconds history,\n",
      "            both being provided by the IERS or the planetary ephemerides provided by JPL.\n",
      "            Such data is stored in text or binary files with specific formats that Orekit knows\n",
      "            how to read, and needs to be provided for the library to work.\n",
      "\n",
      "            You can download a starting file with this data from the orekit gitlab at:\n",
      "            https://gitlab.orekit.org/orekit/orekit-data\n",
      "\n",
      "            or by the function:\n",
      "            orekit.pyhelpers.download_orekit_data_curdir()\n",
      "\n",
      "            \n"
     ]
    },
    {
     "ename": "JVMNotRunning",
     "evalue": "Java Virtual Machine is not running",
     "output_type": "error",
     "traceback": [
      "\u001b[31m---------------------------------------------------------------------------\u001b[39m",
      "\u001b[31mJVMNotRunning\u001b[39m                             Traceback (most recent call last)",
      "\u001b[36mCell\u001b[39m\u001b[36m \u001b[39m\u001b[32mIn[2]\u001b[39m\u001b[32m, line 1\u001b[39m\n\u001b[32m----> \u001b[39m\u001b[32m1\u001b[39m \u001b[38;5;28;01mfrom\u001b[39;00m\u001b[38;5;250m \u001b[39m\u001b[34;01mutils\u001b[39;00m\u001b[38;5;250m \u001b[39m\u001b[38;5;28;01mimport\u001b[39;00m OrbitPropagator, load_clean\n\u001b[32m      2\u001b[39m prop = OrbitPropagator()   \u001b[38;5;66;03m# you should now see the “✔️ Orekit data registered: …” message\u001b[39;00m\n",
      "\u001b[36mFile \u001b[39m\u001b[32m~\\satellite-aukf-assignment\\utils.py:23\u001b[39m\n\u001b[32m     20\u001b[39m setup_orekit_curdir()\n\u001b[32m     22\u001b[39m \u001b[38;5;66;03m# ── 3) Bind java.io.File and register the data provider ─────────────────────\u001b[39;00m\n\u001b[32m---> \u001b[39m\u001b[32m23\u001b[39m File = \u001b[43mJClass\u001b[49m\u001b[43m(\u001b[49m\u001b[33;43m\"\u001b[39;49m\u001b[33;43mjava.io.File\u001b[39;49m\u001b[33;43m\"\u001b[39;49m\u001b[43m)\u001b[49m\n\u001b[32m     24\u001b[39m \u001b[38;5;28;01mfrom\u001b[39;00m\u001b[38;5;250m \u001b[39m\u001b[34;01morg\u001b[39;00m\u001b[34;01m.\u001b[39;00m\u001b[34;01morekit\u001b[39;00m\u001b[34;01m.\u001b[39;00m\u001b[34;01mdata\u001b[39;00m\u001b[38;5;250m \u001b[39m\u001b[38;5;28;01mimport\u001b[39;00m DataContext, DirectoryCrawler\n\u001b[32m     26\u001b[39m DATA_DIR = pathlib.Path(os.getenv(\u001b[33m\"\u001b[39m\u001b[33mOREKIT_DATA_PATH\u001b[39m\u001b[33m\"\u001b[39m, \u001b[33m\"\u001b[39m\u001b[33morekit-data\u001b[39m\u001b[33m\"\u001b[39m)).resolve()\n",
      "\u001b[36mFile \u001b[39m\u001b[32m~\\anaconda3\\envs\\aukf-env\\Lib\\site-packages\\jpype\\_jclass.py:99\u001b[39m, in \u001b[36mJClass.__new__\u001b[39m\u001b[34m(cls, jc, loader, initialize)\u001b[39m\n\u001b[32m     96\u001b[39m     \u001b[38;5;28;01mreturn\u001b[39;00m ret\n\u001b[32m     98\u001b[39m \u001b[38;5;66;03m# Pass to class factory to create the type\u001b[39;00m\n\u001b[32m---> \u001b[39m\u001b[32m99\u001b[39m \u001b[38;5;28;01mreturn\u001b[39;00m \u001b[43m_jpype\u001b[49m\u001b[43m.\u001b[49m\u001b[43m_getClass\u001b[49m\u001b[43m(\u001b[49m\u001b[43mjc\u001b[49m\u001b[43m)\u001b[49m\n",
      "\u001b[31mJVMNotRunning\u001b[39m: Java Virtual Machine is not running"
     ]
    }
   ],
   "source": [
    "from utils import OrbitPropagator, load_clean\n",
    "prop = OrbitPropagator()   # you should now see the “✔️ Orekit data registered: …” message\n"
   ]
  },
  {
   "cell_type": "code",
   "execution_count": 3,
   "id": "8d1f74a9-de95-4736-90ef-a9e54559e934",
   "metadata": {},
   "outputs": [
    {
     "name": "stdout",
     "output_type": "stream",
     "text": [
      "File or folder: C:\\Users\\nazih\\satellite-aukf-assignment\\orekit-data.zip  not found\n",
      "\n",
      "\n",
      "            The Orekit library relies on some external data for physical models.\n",
      "            Typical data are the Earth Orientation Parameters and the leap seconds history,\n",
      "            both being provided by the IERS or the planetary ephemerides provided by JPL.\n",
      "            Such data is stored in text or binary files with specific formats that Orekit knows\n",
      "            how to read, and needs to be provided for the library to work.\n",
      "\n",
      "            You can download a starting file with this data from the orekit gitlab at:\n",
      "            https://gitlab.orekit.org/orekit/orekit-data\n",
      "\n",
      "            or by the function:\n",
      "            orekit.pyhelpers.download_orekit_data_curdir()\n",
      "\n",
      "            \n"
     ]
    },
    {
     "ename": "RuntimeError",
     "evalue": "Unable to import 'java.io' without JVM",
     "output_type": "error",
     "traceback": [
      "\u001b[31m---------------------------------------------------------------------------\u001b[39m",
      "\u001b[31mRuntimeError\u001b[39m                              Traceback (most recent call last)",
      "\u001b[36mCell\u001b[39m\u001b[36m \u001b[39m\u001b[32mIn[3]\u001b[39m\u001b[32m, line 1\u001b[39m\n\u001b[32m----> \u001b[39m\u001b[32m1\u001b[39m \u001b[38;5;28;01mfrom\u001b[39;00m\u001b[38;5;250m \u001b[39m\u001b[34;01mutils\u001b[39;00m\u001b[38;5;250m \u001b[39m\u001b[38;5;28;01mimport\u001b[39;00m OrbitPropagator, load_clean, plot_ground_track\n",
      "\u001b[36mFile \u001b[39m\u001b[32m~\\satellite-aukf-assignment\\utils.py:19\u001b[39m\n\u001b[32m     17\u001b[39m \u001b[38;5;66;03m# 3) Grab java.io.File via JPackage now that the JVM is up\u001b[39;00m\n\u001b[32m     18\u001b[39m \u001b[38;5;28;01mfrom\u001b[39;00m\u001b[38;5;250m \u001b[39m\u001b[34;01mjpype\u001b[39;00m\u001b[38;5;250m \u001b[39m\u001b[38;5;28;01mimport\u001b[39;00m JPackage\n\u001b[32m---> \u001b[39m\u001b[32m19\u001b[39m File = \u001b[43mJPackage\u001b[49m\u001b[43m(\u001b[49m\u001b[33;43m\"\u001b[39;49m\u001b[33;43mjava\u001b[39;49m\u001b[33;43m\"\u001b[39;49m\u001b[43m)\u001b[49m\u001b[43m.\u001b[49m\u001b[43mio\u001b[49m.File\n\u001b[32m     21\u001b[39m \u001b[38;5;66;03m# 4) Register your orekit-data directory\u001b[39;00m\n\u001b[32m     22\u001b[39m \u001b[38;5;28;01mfrom\u001b[39;00m\u001b[38;5;250m \u001b[39m\u001b[34;01morg\u001b[39;00m\u001b[34;01m.\u001b[39;00m\u001b[34;01morekit\u001b[39;00m\u001b[34;01m.\u001b[39;00m\u001b[34;01mdata\u001b[39;00m\u001b[38;5;250m \u001b[39m\u001b[38;5;28;01mimport\u001b[39;00m DataContext, DirectoryCrawler\n",
      "\u001b[31mRuntimeError\u001b[39m: Unable to import 'java.io' without JVM"
     ]
    }
   ],
   "source": [
    "from utils import OrbitPropagator, load_clean, plot_ground_track\n"
   ]
  },
  {
   "cell_type": "code",
   "execution_count": null,
   "id": "a98828fa-affe-4132-942c-bc74afebadeb",
   "metadata": {},
   "outputs": [],
   "source": []
  }
 ],
 "metadata": {
  "kernelspec": {
   "display_name": "Python 3 (ipykernel)",
   "language": "python",
   "name": "python3"
  },
  "language_info": {
   "codemirror_mode": {
    "name": "ipython",
    "version": 3
   },
   "file_extension": ".py",
   "mimetype": "text/x-python",
   "name": "python",
   "nbconvert_exporter": "python",
   "pygments_lexer": "ipython3",
   "version": "3.11.13"
  }
 },
 "nbformat": 4,
 "nbformat_minor": 5
}
