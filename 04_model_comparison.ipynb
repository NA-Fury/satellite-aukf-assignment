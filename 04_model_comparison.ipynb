{
 "cells": [
  {
   "cell_type": "code",
   "execution_count": 1,
   "id": "7206a893-698e-4434-a445-bf64eaa13acb",
   "metadata": {},
   "outputs": [
    {
     "name": "stdout",
     "output_type": "stream",
     "text": [
      "File or folder: C:\\Users\\nazih\\satellite-aukf-assignment\\orekit-data.zip  not found\n",
      "\n",
      "\n",
      "            The Orekit library relies on some external data for physical models.\n",
      "            Typical data are the Earth Orientation Parameters and the leap seconds history,\n",
      "            both being provided by the IERS or the planetary ephemerides provided by JPL.\n",
      "            Such data is stored in text or binary files with specific formats that Orekit knows\n",
      "            how to read, and needs to be provided for the library to work.\n",
      "\n",
      "            You can download a starting file with this data from the orekit gitlab at:\n",
      "            https://gitlab.orekit.org/orekit/orekit-data\n",
      "\n",
      "            or by the function:\n",
      "            orekit.pyhelpers.download_orekit_data_curdir()\n",
      "\n",
      "            \n",
      "✔️  Orekit data registered: C:\\Users\\nazih\\satellite-aukf-assignment\\orekit-data\n"
     ]
    }
   ],
   "source": [
    "import json, numpy as np, pandas as pd, matplotlib.pyplot as plt\n",
    "import time\n",
    "from aukf  import UnscentedKalman           # CV-UKF\n",
    "from utils import OrbitPropagator           # 2-body propagator\n",
    "\n",
    "plt.rcParams[\"figure.dpi\"] = 110\n",
    "\n",
    "def rms(a, b):\n",
    "    return np.sqrt(np.mean((a-b)**2))\n"
   ]
  },
  {
   "cell_type": "code",
   "execution_count": null,
   "id": "24245b19-ec2a-412d-85c9-408c746d407c",
   "metadata": {},
   "outputs": [],
   "source": [
    "df         = pd.read_parquet(\"GPS_clean.parquet\")\n",
    "meas_cols  = json.load(open(\"meas_cols.json\"))\n",
    "epochs     = df[\"time\"].values.astype(\"datetime64[s]\")\n",
    "Z          = df[meas_cols].values\n",
    "\n",
    "# a high-fidelity “truth” orbit propagated with Orekit\n",
    "prop_truth = OrbitPropagator()                      # 8×8 gravity, tides, drag …\n",
    "tspan, sts = prop_truth.propagate(\n",
    "                prop_truth._fake_init_orbit(),\n",
    "                duration=(epochs[-1]-epochs[0]).astype(int).item(),  # .item() → float\n",
    "                step=1.0)\n",
    "\n",
    "print(f\"Propagate took {time.perf_counter()-t0:.1f} s, {len(sts)} steps\")\n",
    "\n",
    "truth_xyz  = np.array([[s.getPVCoordinates().getPosition().getX(),\n",
    "                        s.getPVCoordinates().getPosition().getY(),\n",
    "                        s.getPVCoordinates().getPosition().getZ()] for s in sts])\n"
   ]
  },
  {
   "cell_type": "code",
   "execution_count": null,
   "id": "2e7dceec-f516-453b-b113-a3ffadb555b7",
   "metadata": {},
   "outputs": [],
   "source": [
    "# --- constant-velocity UKF ------------------------------\n",
    "ukf_cv = UnscentedKalman(meas_cols, q0=1e-2, r0=25.0, adaptive=\"iae\")\n",
    "ukf_cv.init_from_measurement(0.0, Z[0])\n",
    "\n",
    "# --- two-body (Orekit) UKF ------------------------------\n",
    "prop_2b      = OrbitPropagator()      # lean 2×2 gravity only\n",
    "ukf_2b       = UnscentedKalman(meas_cols, propagator=prop_2b,\n",
    "                               q0=1e-2, r0=25.0)\n",
    "ukf_2b.init_from_measurement(0.0, Z[0])\n",
    "\n",
    "prev_t = epochs[0]\n",
    "for t, z in zip(epochs[1:], Z[1:]):\n",
    "    dt = float((t - prev_t).astype(int))\n",
    "    ukf_cv.step(dt, z)\n",
    "    ukf_2b.step(dt, z)\n",
    "    prev_t = t\n",
    "\n",
    "cv_xyz = np.vstack([x[1][:3] for x in ukf_cv.history])\n",
    "tb_xyz = np.vstack([x[1][:3] for x in ukf_2b.history])\n"
   ]
  },
  {
   "cell_type": "code",
   "execution_count": null,
   "id": "f818c46a-038b-46d3-9dec-9b8d9867a2fa",
   "metadata": {},
   "outputs": [],
   "source": [
    "def show_track(xyz, label, c):\n",
    "    plt.plot(xyz[:,0]/1e3, xyz[:,1]/1e3, lw=.6, label=label, c=c)\n",
    "\n",
    "plt.figure(figsize=(5,5))\n",
    "show_track(truth_xyz, \"truth\",   \"k\")\n",
    "show_track(cv_xyz,     \"CV-UKF\", \"#1f77b4\")\n",
    "show_track(tb_xyz,     \"2-body-UKF\", \"#ff7f0e\")\n",
    "plt.gca().set_aspect(\"equal\"); plt.legend(); plt.title(\"XY ground-track\")\n",
    "plt.tight_layout()\n",
    "plt.show()\n",
    "\n",
    "print(\"RMS position error  [m]\")\n",
    "print(f\"  CV  : {rms(cv_xyz, truth_xyz):.1f}\")\n",
    "print(f\"  2-b : {rms(tb_xyz, truth_xyz):.1f}\")\n"
   ]
  }
 ],
 "metadata": {
  "kernelspec": {
   "display_name": "Python 3 (ipykernel)",
   "language": "python",
   "name": "python3"
  },
  "language_info": {
   "codemirror_mode": {
    "name": "ipython",
    "version": 3
   },
   "file_extension": ".py",
   "mimetype": "text/x-python",
   "name": "python",
   "nbconvert_exporter": "python",
   "pygments_lexer": "ipython3",
   "version": "3.11.13"
  }
 },
 "nbformat": 4,
 "nbformat_minor": 5
}
